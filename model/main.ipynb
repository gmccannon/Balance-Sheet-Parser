{
 "cells": [
  {
   "cell_type": "code",
   "execution_count": null,
   "metadata": {},
   "outputs": [],
   "source": [
    "import pandas as pd\n",
    "import numpy as np\n",
    "import matplotlib.pyplot as plt\n",
    "from sklearn.preprocessing import MinMaxScaler\n",
    "from tensorflow.keras.models import Sequential\n",
    "from tensorflow.keras.layers import LSTM, Dense, Input\n",
    "from sklearn.model_selection import train_test_split\n"
   ]
  },
  {
   "cell_type": "code",
   "execution_count": 495,
   "metadata": {},
   "outputs": [],
   "source": [
    "TICKER = 'NVDA'"
   ]
  },
  {
   "cell_type": "code",
   "execution_count": 528,
   "metadata": {},
   "outputs": [],
   "source": [
    "# Load the CSV file\n",
    "data = pd.read_csv('../data/year_delta.csv')\n",
    "\n",
    "# Change all empty of inf values to 0.0\n",
    "data = data.replace([np.inf, -np.inf], np.nan)\n",
    "data = data.fillna(0.0)\n",
    "\n",
    " # Filter by symbol\n",
    "data = data[data['act_symbol'] == TICKER]\n",
    "\n",
    "# Separate features (X) and target (y)\n",
    "features = data.drop(columns=['adjusted_price', 'date', 'act_symbol'])\n",
    "target = data['adjusted_price']\n",
    "\n",
    "# Retain the last row before excluding it for training\n",
    "last_row = features.iloc[-1:]\n",
    "\n",
    "# Exclude the last row for training\n",
    "features = features[:-1]\n",
    "\n",
    "# Drop problematic columns entirely for consistency\n",
    "features = features.dropna(axis=1)\n",
    "\n",
    "# Scale features and target\n",
    "scaler_X = MinMaxScaler()\n",
    "scaler_y = MinMaxScaler()\n",
    "\n",
    "scaled_features = scaler_X.fit_transform(features)\n",
    "scaled_target = scaler_y.fit_transform(target.values.reshape(-1, 1))\n",
    "\n",
    "# Preprocess the last row\n",
    "scaled_last_row = scaler_X.transform(last_row)\n"
   ]
  },
  {
   "cell_type": "code",
   "execution_count": 541,
   "metadata": {},
   "outputs": [],
   "source": [
    "def create_sequences(features, target, time_steps):\n",
    "    X, y = [], []\n",
    "    for i in range(len(features) - time_steps):\n",
    "        X.append(features[i:i+time_steps])\n",
    "        y.append(target[i+time_steps])\n",
    "    return np.array(X), np.array(y)\n",
    "\n",
    "time_steps = 5\n",
    "X, y = create_sequences(scaled_features, scaled_target, time_steps)\n",
    "\n",
    "# Split into train and test sets\n",
    "X_train, X_test, y_train, y_test = train_test_split(X, y, test_size=.25, shuffle=False)"
   ]
  },
  {
   "cell_type": "code",
   "execution_count": null,
   "metadata": {},
   "outputs": [
    {
     "name": "stderr",
     "output_type": "stream",
     "text": [
      "/Users/george/Documents/bot2/.venv/lib/python3.9/site-packages/keras/src/layers/rnn/rnn.py:204: UserWarning: Do not pass an `input_shape`/`input_dim` argument to a layer. When using Sequential models, prefer using an `Input(shape)` object as the first layer in the model instead.\n",
      "  super().__init__(**kwargs)\n"
     ]
    }
   ],
   "source": [
    "# Define the model\n",
    "model = Sequential([\n",
    "    Input(shape=(X_train.shape[1], X_train.shape[2])),\n",
    "    LSTM(128, return_sequences=False),\n",
    "    Dense(1)\n",
    "])\n",
    "\n",
    "model.compile(optimizer='adam', loss='mean_squared_error')\n"
   ]
  },
  {
   "cell_type": "code",
   "execution_count": 546,
   "metadata": {},
   "outputs": [
    {
     "name": "stdout",
     "output_type": "stream",
     "text": [
      "Epoch 1/20\n",
      "\u001b[1m1/1\u001b[0m \u001b[32m━━━━━━━━━━━━━━━━━━━━\u001b[0m\u001b[37m\u001b[0m \u001b[1m0s\u001b[0m 39ms/step - loss: 0.0032 - val_loss: 0.1512\n",
      "Epoch 2/20\n",
      "\u001b[1m1/1\u001b[0m \u001b[32m━━━━━━━━━━━━━━━━━━━━\u001b[0m\u001b[37m\u001b[0m \u001b[1m0s\u001b[0m 20ms/step - loss: 0.0072 - val_loss: 0.1551\n",
      "Epoch 3/20\n",
      "\u001b[1m1/1\u001b[0m \u001b[32m━━━━━━━━━━━━━━━━━━━━\u001b[0m\u001b[37m\u001b[0m \u001b[1m0s\u001b[0m 21ms/step - loss: 0.0094 - val_loss: 0.1538\n",
      "Epoch 4/20\n",
      "\u001b[1m1/1\u001b[0m \u001b[32m━━━━━━━━━━━━━━━━━━━━\u001b[0m\u001b[37m\u001b[0m \u001b[1m0s\u001b[0m 21ms/step - loss: 0.0085 - val_loss: 0.1486\n",
      "Epoch 5/20\n",
      "\u001b[1m1/1\u001b[0m \u001b[32m━━━━━━━━━━━━━━━━━━━━\u001b[0m\u001b[37m\u001b[0m \u001b[1m0s\u001b[0m 20ms/step - loss: 0.0054 - val_loss: 0.1426\n",
      "Epoch 6/20\n",
      "\u001b[1m1/1\u001b[0m \u001b[32m━━━━━━━━━━━━━━━━━━━━\u001b[0m\u001b[37m\u001b[0m \u001b[1m0s\u001b[0m 21ms/step - loss: 0.0020 - val_loss: 0.1390\n",
      "Epoch 7/20\n",
      "\u001b[1m1/1\u001b[0m \u001b[32m━━━━━━━━━━━━━━━━━━━━\u001b[0m\u001b[37m\u001b[0m \u001b[1m0s\u001b[0m 20ms/step - loss: 1.7800e-04 - val_loss: 0.1387\n",
      "Epoch 8/20\n",
      "\u001b[1m1/1\u001b[0m \u001b[32m━━━━━━━━━━━━━━━━━━━━\u001b[0m\u001b[37m\u001b[0m \u001b[1m0s\u001b[0m 19ms/step - loss: 4.9082e-04 - val_loss: 0.1407\n",
      "Epoch 9/20\n",
      "\u001b[1m1/1\u001b[0m \u001b[32m━━━━━━━━━━━━━━━━━━━━\u001b[0m\u001b[37m\u001b[0m \u001b[1m0s\u001b[0m 19ms/step - loss: 0.0022 - val_loss: 0.1429\n",
      "Epoch 10/20\n",
      "\u001b[1m1/1\u001b[0m \u001b[32m━━━━━━━━━━━━━━━━━━━━\u001b[0m\u001b[37m\u001b[0m \u001b[1m0s\u001b[0m 19ms/step - loss: 0.0038 - val_loss: 0.1435\n",
      "Epoch 11/20\n",
      "\u001b[1m1/1\u001b[0m \u001b[32m━━━━━━━━━━━━━━━━━━━━\u001b[0m\u001b[37m\u001b[0m \u001b[1m0s\u001b[0m 19ms/step - loss: 0.0042 - val_loss: 0.1423\n",
      "Epoch 12/20\n",
      "\u001b[1m1/1\u001b[0m \u001b[32m━━━━━━━━━━━━━━━━━━━━\u001b[0m\u001b[37m\u001b[0m \u001b[1m0s\u001b[0m 19ms/step - loss: 0.0033 - val_loss: 0.1402\n",
      "Epoch 13/20\n",
      "\u001b[1m1/1\u001b[0m \u001b[32m━━━━━━━━━━━━━━━━━━━━\u001b[0m\u001b[37m\u001b[0m \u001b[1m0s\u001b[0m 19ms/step - loss: 0.0016 - val_loss: 0.1389\n",
      "Epoch 14/20\n",
      "\u001b[1m1/1\u001b[0m \u001b[32m━━━━━━━━━━━━━━━━━━━━\u001b[0m\u001b[37m\u001b[0m \u001b[1m0s\u001b[0m 19ms/step - loss: 3.3665e-04 - val_loss: 0.1392\n",
      "Epoch 15/20\n",
      "\u001b[1m1/1\u001b[0m \u001b[32m━━━━━━━━━━━━━━━━━━━━\u001b[0m\u001b[37m\u001b[0m \u001b[1m0s\u001b[0m 20ms/step - loss: 2.4785e-05 - val_loss: 0.1407\n",
      "Epoch 16/20\n",
      "\u001b[1m1/1\u001b[0m \u001b[32m━━━━━━━━━━━━━━━━━━━━\u001b[0m\u001b[37m\u001b[0m \u001b[1m0s\u001b[0m 21ms/step - loss: 6.0878e-04 - val_loss: 0.1426\n",
      "Epoch 17/20\n",
      "\u001b[1m1/1\u001b[0m \u001b[32m━━━━━━━━━━━━━━━━━━━━\u001b[0m\u001b[37m\u001b[0m \u001b[1m0s\u001b[0m 22ms/step - loss: 0.0015 - val_loss: 0.1435\n",
      "Epoch 18/20\n",
      "\u001b[1m1/1\u001b[0m \u001b[32m━━━━━━━━━━━━━━━━━━━━\u001b[0m\u001b[37m\u001b[0m \u001b[1m0s\u001b[0m 20ms/step - loss: 0.0020 - val_loss: 0.1432\n",
      "Epoch 19/20\n",
      "\u001b[1m1/1\u001b[0m \u001b[32m━━━━━━━━━━━━━━━━━━━━\u001b[0m\u001b[37m\u001b[0m \u001b[1m0s\u001b[0m 22ms/step - loss: 0.0018 - val_loss: 0.1418\n",
      "Epoch 20/20\n",
      "\u001b[1m1/1\u001b[0m \u001b[32m━━━━━━━━━━━━━━━━━━━━\u001b[0m\u001b[37m\u001b[0m \u001b[1m0s\u001b[0m 20ms/step - loss: 0.0011 - val_loss: 0.1403\n"
     ]
    },
    {
     "data": {
      "text/plain": [
       "<keras.src.callbacks.history.History at 0x3966360d0>"
      ]
     },
     "execution_count": 546,
     "metadata": {},
     "output_type": "execute_result"
    }
   ],
   "source": [
    "# Train the model\n",
    "model.fit(X_train, y_train, epochs=20, batch_size=16, validation_data=(X_test, y_test), verbose=1)\n"
   ]
  },
  {
   "cell_type": "code",
   "execution_count": 547,
   "metadata": {},
   "outputs": [
    {
     "name": "stdout",
     "output_type": "stream",
     "text": [
      "\u001b[1m1/1\u001b[0m \u001b[32m━━━━━━━━━━━━━━━━━━━━\u001b[0m\u001b[37m\u001b[0m \u001b[1m0s\u001b[0m 9ms/step\n",
      "Predicted price for the last row: 1.4452869\n"
     ]
    }
   ],
   "source": [
    "# Prepare the last sequence for prediction\n",
    "# Use the last `time_steps` rows from the scaled_features plus the scaled_last_row\n",
    "last_sequence = np.vstack([scaled_features[-(time_steps - 1):], scaled_last_row])\n",
    "last_sequence = last_sequence.reshape(1, time_steps, -1)  # Reshape for LSTM input\n",
    "\n",
    "# Make the prediction\n",
    "predicted_scaled_price = model.predict(last_sequence)\n",
    "\n",
    "# Inverse transform the scaled prediction to get the actual price\n",
    "predicted_price = scaler_y.inverse_transform(predicted_scaled_price)\n",
    "print(\"Predicted price for the last row:\", predicted_price[0][0])"
   ]
  },
  {
   "cell_type": "code",
   "execution_count": 548,
   "metadata": {},
   "outputs": [
    {
     "name": "stdout",
     "output_type": "stream",
     "text": [
      "\u001b[1m1/1\u001b[0m \u001b[32m━━━━━━━━━━━━━━━━━━━━\u001b[0m\u001b[37m\u001b[0m \u001b[1m0s\u001b[0m 11ms/step\n"
     ]
    },
    {
     "data": {
      "image/png": "[encoded data removed]",
      "text/plain": [
       "<Figure size 1200x600 with 1 Axes>"
      ]
     },
     "metadata": {},
     "output_type": "display_data"
    },
    {
     "name": "stdout",
     "output_type": "stream",
     "text": [
      "Predicted Price Change for the Next Year: 1.16\n"
     ]
    }
   ],
   "source": [
    "import matplotlib.pyplot as plt\n",
    "\n",
    "# Predict the next quarter\n",
    "latest_sequence = scaled_features[-time_steps:].reshape(1, time_steps, scaled_features.shape[1])\n",
    "predicted_scaled_future = model.predict(latest_sequence)\n",
    "predicted_future_price = scaler_y.inverse_transform(predicted_scaled_future)\n",
    "\n",
    "# Prepare historical data\n",
    "historical_prices = scaler_y.inverse_transform(scaled_target).flatten()\n",
    "timeline = list(range(len(historical_prices)))\n",
    "\n",
    "# Extend timeline and prices for future prediction\n",
    "extended_timeline = timeline + [timeline[-1] + 1]\n",
    "extended_prices = list(historical_prices) + [predicted_future_price[0][0]]\n",
    "\n",
    "# Plot the data\n",
    "plt.figure(figsize=(12, 6))\n",
    "plt.plot(timeline[0: -1], historical_prices[0: -1], label=\"Actual Prices\", color=\"blue\", linestyle=\"-\")\n",
    "\n",
    "plt.plot([timeline[-2], extended_timeline[-2]], [historical_prices[-2], predicted_future_price[0][0]], \n",
    "         label=\"Future Prediction\", color=\"red\", linestyle=\"--\", marker='o')\n",
    "\n",
    "# Add a horizontal line at y = 1\n",
    "plt.axhline(y=1, color='purple', linestyle='--', label=\"No Change Line\")\n",
    "\n",
    "plt.title(f\"{TICKER} Y/Y Stock Price Change\")\n",
    "plt.xlabel(\"Year\")\n",
    "plt.ylabel(\"Adjusted Price\")\n",
    "plt.legend(loc=\"best\")\n",
    "plt.grid()\n",
    "plt.show()\n",
    "\n",
    "print(f\"Predicted Price Change for the Next Year: {predicted_future_price[0][0]:.2f}\")\n"
   ]
  },
  {
   "cell_type": "code",
   "execution_count": 527,
   "metadata": {},
   "outputs": [
    {
     "name": "stdout",
     "output_type": "stream",
     "text": [
      "Original Data Shape: (11, 135)\n",
      "Scaled Features Shape: (10, 132)\n",
      "Scaled Target Shape: (11, 1)\n",
      "NaN in Scaled Features: 0\n",
      "NaN in Scaled Target: 0\n",
      "First Sequence (X): [[0.5186587  0.10566222 0.         0.22241275 0.07128821 0.37945395\n",
      "  0.16297821 0.         0.         0.         0.00955646 0.05345982\n",
      "  0.27211151 0.         0.14285714 0.05615117 0.55817492 0.05510753\n",
      "  1.         0.1241338  0.27211151 0.         0.63901783 0.\n",
      "  0.22335189 0.         0.         0.25693363 0.         0.\n",
      "  0.16392264 0.         0.         0.         0.         1.\n",
      "  0.12008841 0.         0.59783168 0.14753853 0.08444539 0.45293738\n",
      "  0.         0.18752872 0.26707544 0.26708756 0.         0.82673989\n",
      "  0.55746167 0.82668033 1.         0.         0.         1.\n",
      "  0.0713492  0.         0.         0.64127894 0.07357608 0.1078092\n",
      "  0.20878331 0.         0.         0.         0.         0.\n",
      "  0.         0.         0.         0.         0.         0.\n",
      "  0.         0.04847247 0.         0.17467954 0.19626098 0.15899521\n",
      "  0.3744154  0.65797641 0.16320785 0.57194105 0.         0.\n",
      "  0.         0.14726428 0.         0.14726428 0.19652503 0.08543375\n",
      "  0.00115971 0.213447   0.20878331 0.         0.         0.\n",
      "  0.         0.         0.         0.         0.         0.\n",
      "  0.         0.         0.         0.         0.         0.\n",
      "  0.         0.         0.         0.         0.         0.\n",
      "  0.         0.         0.         0.         0.         0.\n",
      "  0.0046201  0.         0.01158291 0.04661783 0.07731192 0.11053081\n",
      "  0.20875584 0.41492329 0.59507438 0.53696645 0.52230532 0.46587532]\n",
      " [0.30026973 0.26541748 0.         0.4586709  0.17619323 0.21632121\n",
      "  0.11028598 0.         0.         0.         0.         0.03146734\n",
      "  0.08362361 0.         0.14285714 0.16065608 0.61590742 0.11129032\n",
      "  0.85608594 0.21613072 0.08362361 0.01477516 0.66233364 0.\n",
      "  0.21798495 0.         0.         0.21983118 0.         0.\n",
      "  0.15274725 0.         0.         0.         0.43673645 0.82098765\n",
      "  0.24871522 0.         0.0509096  0.43491795 0.05421065 0.\n",
      "  0.         0.24358973 0.31527756 0.         0.         0.85623229\n",
      "  0.9207484  0.7917646  0.04028955 0.99838908 0.         0.01068616\n",
      "  0.08490339 0.8773985  0.         0.10543152 0.1078092  0.02551561\n",
      "  0.59857579 0.         0.         0.         0.         0.\n",
      "  0.         0.         0.         0.         0.         0.\n",
      "  0.         0.29578487 0.34894112 0.33308967 0.01477077 0.51171073\n",
      "  0.49330727 1.         0.49446494 0.833339   0.         0.\n",
      "  0.         0.43531489 0.         0.43531489 0.5005205  0.05333561\n",
      "  0.         0.69802193 0.59857579 0.         0.         0.\n",
      "  0.         0.         0.         0.         0.         0.\n",
      "  0.         0.         0.         0.         0.         0.\n",
      "  0.         0.         0.         0.         0.         0.\n",
      "  0.         0.         0.         0.         0.         0.\n",
      "  0.00189004 0.         0.04507825 0.11499064 0.22390723 0.1220948\n",
      "  0.13526325 0.13839357 0.08632024 0.03955151 0.         0.        ]\n",
      " [0.38311811 0.22209967 0.         0.17944573 0.         0.26039731\n",
      "  0.         0.         0.         0.         0.00408254 0.\n",
      "  0.12517426 0.         0.14285714 0.         0.58496186 0.00403226\n",
      "  0.76277909 0.24307824 0.12517426 0.02561814 0.64712111 0.\n",
      "  0.3161404  0.         0.         0.33340226 0.         0.\n",
      "  1.         0.         0.         0.         0.         0.75396825\n",
      "  0.18925669 0.         0.08417492 0.23208806 0.         0.47251117\n",
      "  0.         0.51797939 0.45964806 0.11044431 0.         0.73508908\n",
      "  0.         0.72392996 0.0327293  1.         0.         0.05046262\n",
      "  0.07531332 0.98815415 0.         0.19986613 0.02553754 0.08099914\n",
      "  0.28888743 0.         0.         0.         0.         0.\n",
      "  0.         0.         0.         0.         0.         0.\n",
      "  0.         0.20254861 0.24678487 0.25284258 0.19368282 0.259882\n",
      "  0.23804667 0.03380293 0.26291782 0.65497004 0.         0.\n",
      "  0.         0.23180879 0.         0.23180879 0.26721548 0.\n",
      "  0.01754531 0.24995043 0.28888743 0.         0.         0.\n",
      "  0.         0.         0.         0.         0.         0.\n",
      "  0.         0.         0.         0.         0.         0.\n",
      "  0.         0.         0.         0.         0.         0.\n",
      "  0.         0.         0.         0.         0.         0.\n",
      "  0.14385316 0.         0.77192717 0.62534488 0.32882347 0.14414064\n",
      "  0.15531981 0.24123585 0.34027592 0.41700957 0.48359847 0.54126099]\n",
      " [0.59848742 0.74460748 0.         0.94046316 0.38959438 0.61274977\n",
      "  0.26128155 0.         0.         0.         0.00277504 0.04289267\n",
      "  0.55185168 0.         0.14285714 0.30287205 0.95755896 0.23387097\n",
      "  0.79634619 0.61602261 0.55185168 0.02945444 0.91784192 0.\n",
      "  0.89837025 1.         0.         0.         0.         0.\n",
      "  0.05844928 0.         0.         1.         0.         0.63333333\n",
      "  0.         0.         0.34325686 1.         0.01374649 1.\n",
      "  0.         0.25406656 0.54477986 0.55575673 0.         1.\n",
      "  0.9110875  1.         0.07410271 0.31259043 0.         0.07935153\n",
      "  0.         0.94155233 0.         1.         0.08093814 0.20824195\n",
      "  0.07930403 0.         0.         0.         0.         0.\n",
      "  0.         0.         0.         0.         0.         0.\n",
      "  0.         0.65580415 0.64000511 0.70637788 0.         1.\n",
      "  0.11523353 0.09112881 1.         0.85317012 0.         0.\n",
      "  0.         1.         0.         1.         1.         0.01358103\n",
      "  1.         0.         0.07930403 0.         0.         0.\n",
      "  0.         0.         0.         0.         0.         0.\n",
      "  0.         0.         0.         0.         0.         0.\n",
      "  0.         0.         0.         0.         0.         0.\n",
      "  0.         0.         0.         0.         0.         0.\n",
      "  0.01459723 0.         0.07207752 0.1479845  0.22225596 0.13932768\n",
      "  0.18954949 0.33373182 0.47320642 0.49466661 0.50222488 0.43902674]\n",
      " [0.34672041 0.64916068 0.         0.28033691 0.02022323 0.28523213\n",
      "  1.         0.         0.         0.         0.00351852 1.\n",
      "  0.28772974 0.         0.14285714 0.35127074 1.         0.08702957\n",
      "  0.8442583  0.62578573 0.28772974 0.06867005 0.78160391 0.\n",
      "  0.51874481 0.03345086 0.         0.33868529 0.         0.\n",
      "  0.         0.         0.         0.         0.42833231 0.\n",
      "  1.         0.         0.         0.60960309 0.02124401 0.44627429\n",
      "  0.         0.         1.         1.         0.         0.\n",
      "  0.91817216 0.30726669 0.05622269 0.99742646 0.         0.1076159\n",
      "  1.         0.629548   0.         0.33772616 0.20824195 0.15794167\n",
      "  0.8112144  0.         0.         0.         0.         0.\n",
      "  0.         0.         0.         0.         0.         0.\n",
      "  0.         0.69472138 0.75933743 0.69084328 0.41930254 0.57144772\n",
      "  0.44785386 0.04189944 0.58651629 0.5532604  0.         0.\n",
      "  0.         0.60960309 0.         0.60960309 0.63599751 0.02107981\n",
      "  0.00738687 0.95710742 0.8112144  0.         0.         0.\n",
      "  0.         0.         0.         0.         0.         0.\n",
      "  0.         0.         0.         0.         0.         0.\n",
      "  0.         0.         0.         0.         0.         0.\n",
      "  0.         0.         0.         0.         0.73539629 0.63144143\n",
      "  0.01844513 0.         0.12984723 0.2613512  0.28365405 0.16117262\n",
      "  0.19838376 0.30235631 0.38048122 0.38500736 0.36102164 0.31081493]]\n",
      "First Target (y): [0.44123607]\n",
      "Model Summary:\n"
     ]
    },
    {
     "data": {
      "text/html": [
       "<pre style=\"white-space:pre;overflow-x:auto;line-height:normal;font-family:Menlo,'DejaVu Sans Mono',consolas,'Courier New',monospace\"><span style=\"font-weight: bold\">Model: \"sequential_62\"</span>\n",
       "</pre>\n"
      ],
      "text/plain": [
       "\u001b[1mModel: \"sequential_62\"\u001b[0m\n"
      ]
     },
     "metadata": {},
     "output_type": "display_data"
    },
    {
     "data": {
      "text/html": [
       "<pre style=\"white-space:pre;overflow-x:auto;line-height:normal;font-family:Menlo,'DejaVu Sans Mono',consolas,'Courier New',monospace\">┏━━━━━━━━━━━━━━━━━━━━━━━━━━━━━━━━━┳━━━━━━━━━━━━━━━━━━━━━━━━┳━━━━━━━━━━━━━━━┓\n",
       "┃<span style=\"font-weight: bold\"> Layer (type)                    </span>┃<span style=\"font-weight: bold\"> Output Shape           </span>┃<span style=\"font-weight: bold\">       Param # </span>┃\n",
       "┡━━━━━━━━━━━━━━━━━━━━━━━━━━━━━━━━━╇━━━━━━━━━━━━━━━━━━━━━━━━╇━━━━━━━━━━━━━━━┩\n",
       "│ lstm_62 (<span style=\"color: #0087ff; text-decoration-color: #0087ff\">LSTM</span>)                  │ (<span style=\"color: #00d7ff; text-decoration-color: #00d7ff\">None</span>, <span style=\"color: #00af00; text-decoration-color: #00af00\">128</span>)            │       <span style=\"color: #00af00; text-decoration-color: #00af00\">133,632</span> │\n",
       "├─────────────────────────────────┼────────────────────────┼───────────────┤\n",
       "│ dense_62 (<span style=\"color: #0087ff; text-decoration-color: #0087ff\">Dense</span>)                │ (<span style=\"color: #00d7ff; text-decoration-color: #00d7ff\">None</span>, <span style=\"color: #00af00; text-decoration-color: #00af00\">1</span>)              │           <span style=\"color: #00af00; text-decoration-color: #00af00\">129</span> │\n",
       "└─────────────────────────────────┴────────────────────────┴───────────────┘\n",
       "</pre>\n"
      ],
      "text/plain": [
       "┏━━━━━━━━━━━━━━━━━━━━━━━━━━━━━━━━━┳━━━━━━━━━━━━━━━━━━━━━━━━┳━━━━━━━━━━━━━━━┓\n",
       "┃\u001b[1m \u001b[0m\u001b[1mLayer (type)                   \u001b[0m\u001b[1m \u001b[0m┃\u001b[1m \u001b[0m\u001b[1mOutput Shape          \u001b[0m\u001b[1m \u001b[0m┃\u001b[1m \u001b[0m\u001b[1m      Param #\u001b[0m\u001b[1m \u001b[0m┃\n",
       "┡━━━━━━━━━━━━━━━━━━━━━━━━━━━━━━━━━╇━━━━━━━━━━━━━━━━━━━━━━━━╇━━━━━━━━━━━━━━━┩\n",
       "│ lstm_62 (\u001b[38;5;33mLSTM\u001b[0m)                  │ (\u001b[38;5;45mNone\u001b[0m, \u001b[38;5;34m128\u001b[0m)            │       \u001b[38;5;34m133,632\u001b[0m │\n",
       "├─────────────────────────────────┼────────────────────────┼───────────────┤\n",
       "│ dense_62 (\u001b[38;5;33mDense\u001b[0m)                │ (\u001b[38;5;45mNone\u001b[0m, \u001b[38;5;34m1\u001b[0m)              │           \u001b[38;5;34m129\u001b[0m │\n",
       "└─────────────────────────────────┴────────────────────────┴───────────────┘\n"
      ]
     },
     "metadata": {},
     "output_type": "display_data"
    },
    {
     "data": {
      "text/html": [
       "<pre style=\"white-space:pre;overflow-x:auto;line-height:normal;font-family:Menlo,'DejaVu Sans Mono',consolas,'Courier New',monospace\"><span style=\"font-weight: bold\"> Total params: </span><span style=\"color: #00af00; text-decoration-color: #00af00\">401,285</span> (1.53 MB)\n",
       "</pre>\n"
      ],
      "text/plain": [
       "\u001b[1m Total params: \u001b[0m\u001b[38;5;34m401,285\u001b[0m (1.53 MB)\n"
      ]
     },
     "metadata": {},
     "output_type": "display_data"
    },
    {
     "data": {
      "text/html": [
       "<pre style=\"white-space:pre;overflow-x:auto;line-height:normal;font-family:Menlo,'DejaVu Sans Mono',consolas,'Courier New',monospace\"><span style=\"font-weight: bold\"> Trainable params: </span><span style=\"color: #00af00; text-decoration-color: #00af00\">133,761</span> (522.50 KB)\n",
       "</pre>\n"
      ],
      "text/plain": [
       "\u001b[1m Trainable params: \u001b[0m\u001b[38;5;34m133,761\u001b[0m (522.50 KB)\n"
      ]
     },
     "metadata": {},
     "output_type": "display_data"
    },
    {
     "data": {
      "text/html": [
       "<pre style=\"white-space:pre;overflow-x:auto;line-height:normal;font-family:Menlo,'DejaVu Sans Mono',consolas,'Courier New',monospace\"><span style=\"font-weight: bold\"> Non-trainable params: </span><span style=\"color: #00af00; text-decoration-color: #00af00\">0</span> (0.00 B)\n",
       "</pre>\n"
      ],
      "text/plain": [
       "\u001b[1m Non-trainable params: \u001b[0m\u001b[38;5;34m0\u001b[0m (0.00 B)\n"
      ]
     },
     "metadata": {},
     "output_type": "display_data"
    },
    {
     "data": {
      "text/html": [
       "<pre style=\"white-space:pre;overflow-x:auto;line-height:normal;font-family:Menlo,'DejaVu Sans Mono',consolas,'Courier New',monospace\"><span style=\"font-weight: bold\"> Optimizer params: </span><span style=\"color: #00af00; text-decoration-color: #00af00\">267,524</span> (1.02 MB)\n",
       "</pre>\n"
      ],
      "text/plain": [
       "\u001b[1m Optimizer params: \u001b[0m\u001b[38;5;34m267,524\u001b[0m (1.02 MB)\n"
      ]
     },
     "metadata": {},
     "output_type": "display_data"
    },
    {
     "name": "stdout",
     "output_type": "stream",
     "text": [
      "Latest Sequence Shape: (1, 5, 132)\n"
     ]
    }
   ],
   "source": [
    "# Debugging outputs to ensure correctness\n",
    "print(\"Original Data Shape:\", data.shape)\n",
    "print(\"Scaled Features Shape:\", scaled_features.shape)\n",
    "print(\"Scaled Target Shape:\", scaled_target.shape)\n",
    "\n",
    "# Check for NaN in scaled data\n",
    "print(\"NaN in Scaled Features:\", np.isnan(scaled_features).sum())\n",
    "print(\"NaN in Scaled Target:\", np.isnan(scaled_target).sum())\n",
    "\n",
    "# Inspect the first feature-target pair after sequence creation\n",
    "print(\"First Sequence (X):\", X[0])\n",
    "print(\"First Target (y):\", y[0])\n",
    "\n",
    "# Ensure model is compiled correctly\n",
    "print(\"Model Summary:\")\n",
    "model.summary()\n",
    "\n",
    "# Check prediction shape\n",
    "print(\"Latest Sequence Shape:\", latest_sequence.shape)\n"
   ]
  }
 ],
 "metadata": {
  "kernelspec": {
   "display_name": ".venv",
   "language": "python",
   "name": "python3"
  },
  "language_info": {
   "codemirror_mode": {
    "name": "ipython",
    "version": 3
   },
   "file_extension": ".py",
   "mimetype": "text/x-python",
   "name": "python",
   "nbconvert_exporter": "python",
   "pygments_lexer": "ipython3",
   "version": "3.9.6"
  }
 },
 "nbformat": 4,
 "nbformat_minor": 2
}
